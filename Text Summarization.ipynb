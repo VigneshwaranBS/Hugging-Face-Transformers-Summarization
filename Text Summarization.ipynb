{
 "cells": [
  {
   "cell_type": "markdown",
   "id": "86a7de43",
   "metadata": {},
   "source": [
    "# Installing dependencies"
   ]
  },
  {
   "cell_type": "markdown",
   "id": "72e10f9a",
   "metadata": {},
   "source": [
    "# !pip install transformers"
   ]
  },
  {
   "cell_type": "code",
   "execution_count": 2,
   "id": "d3c3565b",
   "metadata": {},
   "outputs": [
    {
     "name": "stderr",
     "output_type": "stream",
     "text": [
      "C:\\Users\\Vicky\\AppData\\Local\\Programs\\Python\\Python310\\lib\\site-packages\\tqdm\\auto.py:22: TqdmWarning: IProgress not found. Please update jupyter and ipywidgets. See https://ipywidgets.readthedocs.io/en/stable/user_install.html\n",
      "  from .autonotebook import tqdm as notebook_tqdm\n"
     ]
    }
   ],
   "source": [
    "from transformers import pipeline"
   ]
  },
  {
   "cell_type": "markdown",
   "id": "a1caf3dc",
   "metadata": {},
   "source": [
    "\n",
    "# Load Summarization Pipeline"
   ]
  },
  {
   "cell_type": "code",
   "execution_count": 3,
   "id": "05cce08b",
   "metadata": {},
   "outputs": [
    {
     "name": "stderr",
     "output_type": "stream",
     "text": [
      "No model was supplied, defaulted to t5-small and revision d769bba (https://huggingface.co/t5-small).\n",
      "Using a pipeline without specifying a model name and revision in production is not recommended.\n",
      "Downloading (…)lve/main/config.json: 100%|█████████████████████████████████████████| 1.21k/1.21k [00:00<00:00, 540kB/s]\n",
      "C:\\Users\\Vicky\\AppData\\Local\\Programs\\Python\\Python310\\lib\\site-packages\\huggingface_hub\\file_download.py:133: UserWarning: `huggingface_hub` cache-system uses symlinks by default to efficiently store duplicated files but your machine does not support them in C:\\Users\\Vicky\\.cache\\huggingface\\hub. Caching files will still work but in a degraded version that might require more space on your disk. This warning can be disabled by setting the `HF_HUB_DISABLE_SYMLINKS_WARNING` environment variable. For more details, see https://huggingface.co/docs/huggingface_hub/how-to-cache#limitations.\n",
      "To support symlinks on Windows, you either need to activate Developer Mode or to run Python as an administrator. In order to see activate developer mode, see this article: https://docs.microsoft.com/en-us/windows/apps/get-started/enable-your-device-for-development\n",
      "  warnings.warn(message)\n",
      "Downloading tf_model.h5: 100%|██████████████████████████████████████████████████████| 242M/242M [03:07<00:00, 1.29MB/s]\n",
      "All model checkpoint layers were used when initializing TFT5ForConditionalGeneration.\n",
      "\n",
      "All the layers of TFT5ForConditionalGeneration were initialized from the model checkpoint at t5-small.\n",
      "If your task is similar to the task the model of the checkpoint was trained on, you can already use TFT5ForConditionalGeneration for predictions without further training.\n",
      "Downloading (…)neration_config.json: 100%|████████████████████████████████████████████| 147/147 [00:00<00:00, 18.3kB/s]\n",
      "Downloading (…)okenizer_config.json: 100%|█████████████████████████████████████████| 2.32k/2.32k [00:00<00:00, 564kB/s]\n",
      "Downloading (…)ve/main/spiece.model: 100%|███████████████████████████████████████████| 792k/792k [00:01<00:00, 774kB/s]\n",
      "Downloading (…)/main/tokenizer.json: 100%|█████████████████████████████████████████| 1.39M/1.39M [00:01<00:00, 731kB/s]\n"
     ]
    }
   ],
   "source": [
    "summarizer = pipeline(\"summarization\")"
   ]
  },
  {
   "cell_type": "markdown",
   "id": "8149505e",
   "metadata": {},
   "source": [
    "# Summarize Text\n",
    " "
   ]
  },
  {
   "cell_type": "code",
   "execution_count": 4,
   "id": "99b4e276",
   "metadata": {},
   "outputs": [],
   "source": [
    "article  = \"\"\"\n",
    "\n",
    "MLOps: Continuous delivery and automation pipelines in machine learning\n",
    "\n",
    "bookmark_border\n",
    "Last reviewed 2023-05-18 UTC\n",
    "This document discusses techniques for implementing and automating continuous integration (CI), continuous delivery (CD), and continuous training (CT) for machine learning (ML) systems.\n",
    "\n",
    "Data science and ML are becoming core capabilities for solving complex real-world problems, transforming industries, and delivering value in all domains. Currently, the ingredients for applying effective ML are available to you:\n",
    "\n",
    "Large datasets\n",
    "Inexpensive on-demand compute resources\n",
    "Specialized accelerators for ML on various cloud platforms\n",
    "Rapid advances in different ML research fields (such as computer vision, natural language understanding, and recommendations AI systems).\n",
    "Therefore, many businesses are investing in their data science teams and ML capabilities to develop predictive models that can deliver business value to their users.\n",
    "\n",
    "This document is for data scientists and ML engineers who want to apply DevOps principles to ML systems (MLOps). MLOps is an ML engineering culture and practice that aims at unifying ML system development (Dev) and ML system operation (Ops). Practicing MLOps means that you advocate for automation and monitoring at all steps of ML system construction, including integration, testing, releasing, deployment and infrastructure management.\n",
    "\n",
    "Data scientists can implement and train an ML model with predictive performance on an offline holdout dataset, given relevant training data for their use case. However, the real challenge isn't building an ML model, the challenge is building an integrated ML system and to continuously operate it in production. With the long history of production ML services at Google, we've learned that there can be many pitfalls in operating ML-based systems in production. Some of these pitfalls are summarized in Machine Learning: The high-interest credit card of technical debt.\n",
    "\n",
    "\n",
    "\n",
    "\"\"\""
   ]
  },
  {
   "cell_type": "code",
   "execution_count": 6,
   "id": "fd2ed6bf",
   "metadata": {},
   "outputs": [
    {
     "name": "stderr",
     "output_type": "stream",
     "text": [
      "C:\\Users\\Vicky\\AppData\\Local\\Programs\\Python\\Python310\\lib\\site-packages\\transformers\\generation\\tf_utils.py:603: UserWarning: You have modified the pretrained model configuration to control generation. This is a deprecated strategy to control generation and will be removed soon, in a future version. Please use a generation configuration file (see https://huggingface.co/docs/transformers/main_classes/text_generation)\n",
      "  warnings.warn(\n"
     ]
    },
    {
     "data": {
      "text/plain": [
       "[{'summary_text': 'data science and ML are becoming core capabilities for solving complex real-world problems, transforming industries, and delivering value in all domains . many businesses are investing in their data science teams to develop predictive models that can deliver business value to their users . the real challenge is building an integrated ML system and to continuously operate it in production .'}]"
      ]
     },
     "execution_count": 6,
     "metadata": {},
     "output_type": "execute_result"
    }
   ],
   "source": [
    "summarizer(article)"
   ]
  },
  {
   "cell_type": "code",
   "execution_count": null,
   "id": "d44df5fb",
   "metadata": {},
   "outputs": [],
   "source": [
    "summary = summarizer(article, max_length=130, min_length=30, do_sample=False)"
   ]
  },
  {
   "cell_type": "code",
   "execution_count": null,
   "id": "75d01b81",
   "metadata": {},
   "outputs": [],
   "source": [
    "summary[0]['summary_text']"
   ]
  },
  {
   "cell_type": "code",
   "execution_count": null,
   "id": "24563bb8",
   "metadata": {},
   "outputs": [],
   "source": []
  }
 ],
 "metadata": {
  "kernelspec": {
   "display_name": "Python 3 (ipykernel)",
   "language": "python",
   "name": "python3"
  },
  "language_info": {
   "codemirror_mode": {
    "name": "ipython",
    "version": 3
   },
   "file_extension": ".py",
   "mimetype": "text/x-python",
   "name": "python",
   "nbconvert_exporter": "python",
   "pygments_lexer": "ipython3",
   "version": "3.10.4"
  }
 },
 "nbformat": 4,
 "nbformat_minor": 5
}
